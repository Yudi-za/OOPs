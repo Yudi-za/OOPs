{
  "nbformat": 4,
  "nbformat_minor": 0,
  "metadata": {
    "colab": {
      "provenance": []
    },
    "kernelspec": {
      "name": "python3",
      "display_name": "Python 3"
    },
    "language_info": {
      "name": "python"
    }
  },
  "cells": [
    {
      "cell_type": "code",
      "execution_count": null,
      "metadata": {
        "id": "7-xzz9edu4fT"
      },
      "outputs": [],
      "source": []
    },
    {
      "cell_type": "markdown",
      "source": [],
      "metadata": {
        "id": "3L3fP3icvF0I"
      }
    },
    {
      "cell_type": "markdown",
      "source": [
        "1. What is Object-Oriented Programming (OOP)?\n",
        "  - Object-Oriented Programming (OOP) is a programming paradigm that structures software around objects, which combine data (attributes) and functions (methods).\n",
        "\n",
        "  - Core Principles:\n",
        "\n",
        "    1. Encapsulation: Bundling data and methods together within an object, hiding internal details.\n",
        "\n",
        "    2. Inheritance: Allowing new classes (subclasses) to reuse properties and behaviors from existing classes (superclasses), promoting code reuse.\n",
        "\n",
        "    3. Polymorphism: The ability of objects of different classes to be treated as objects of a common type, allowing a single interface for different forms.\n",
        "\n",
        "    4. Abstraction: Showing only essential information and hiding complex implementation details.\n",
        "\n",
        "2. What is a class in OOP?\n",
        "  - A class is a blueprint or template used to create objects. It defines the attributes (data) and methods (functions) that the objects created from the class will have.\n",
        "\n",
        "    In simple terms, a class is like a design or plan for building something. For example, if a class is like a blueprint for a car, then an object is the actual car built from that blueprint.\n",
        "\n",
        "    Key Points:\n",
        "    \n",
        "    a).  A class defines what an object is and what it can do.\n",
        "\n",
        "    b).  It helps in organizing code and reusing it.\n",
        "    \n",
        "    c).  Objects are created based on a class and are called instances of that class.\n",
        "\n",
        "3. What is an object in OOP?\n",
        "  - Object in Object-Oriented Programming (OOP):\n",
        "\n",
        "    An object is an individual instance of a class. It represents a specific real-world entity that has its own data (called attributes) and behavior (called methods).\n",
        "\n",
        "\n",
        "  - Key Points:\n",
        "  \n",
        "  a). An object is created using a class.\n",
        "\n",
        "  b). Each object can have different values for its attributes.\n",
        "\n",
        "  c). Objects allow programs to model real-life things in a structured way.\n",
        "\n",
        "\n",
        "4. What is the difference between abstraction and encapsulation?\n",
        "  - Abstraction means hiding unnecessary details and showing only the important parts. It helps us focus on what an object does, not how it does it. For example, when we use a mobile phone, we press buttons without knowing how the phone works inside.\n",
        "\n",
        "  - Encapsulation means hiding the internal data of an object and only allowing access through specific methods. It helps protect the data from being changed accidentally. For example, a car’s engine is hidden under the hood, and we use the controls to operate it.\n",
        "\n",
        "5. What are dunder methods in Python?\n",
        "  - In Python, \"dunder methods\" (short for \"double underscore methods\") are special methods that have two underscores at the beginning and two underscores at the end of their names, like __init__, __str__, or __add__.\n",
        "\n",
        "  They are also commonly called \"magic methods\" or \"special methods\".\n",
        "\n",
        "  Their purpose is to allow your custom Python classes to integrate seamlessly with Python's built-in operations and functions. You don't usually call them directly; instead, Python calls them automatically under specific circumstances.\n",
        "\n",
        "6. Explain the concept of inheritance in OOP?\n",
        "\n",
        "  - Inheritance is a concept in Object-Oriented Programming (OOP) where one class (called the child or subclass) can use the properties and methods of another class (called the parent or superclass). It allows code to be reused and organized better.\n",
        "\n",
        "  Example in Words:\n",
        "  If you have a class called Animal with a method eat(), and you create a new class called Dog that inherits from Animal, the Dog class can also use the eat() method without writing it again.\n",
        "\n",
        "7. What is polymorphism in OOP?\n",
        "  - Polymorphism in Object-Oriented Programming (OOP) means \"many forms\". It allows different classes to have methods with the same name, but with different behavior. This helps us write flexible and reusable code.\n",
        "\n",
        "  Example in Words:\n",
        "  If two classes, Bird and Dog, both have a method called speak(), the Bird class’s method might make it say \"Chirp\", while the Dog class’s method might make it say \"Bark\". Even though the method name is the same, each class acts differently.\n",
        "\n",
        "8. How is encapsulation achieved in Python?\n",
        "  - Encapsulation in Python is achieved by hiding the internal data of a class and controlling access to it using methods.\n",
        "\n",
        "  - How It’s Done:\n",
        "\n",
        "  a). Private variables: Use an underscore _ or double underscore __ before a variable name to make it private or protected.\n",
        "\n",
        "  b). Getter and setter methods: Special methods are used to access or update private data safely.\n",
        "  - Example:\n",
        "  Imagine a class called BankAccount. The balance is hidden from direct access using a private variable like __balance. To check or update the balance, we use special methods like get_balance() or deposit(amount).\n",
        "\n",
        "9. What is a constructor in Python?\n",
        "  - A constructor in Python is a special method used to create and initialize an object when a class is instantiated. It sets up the initial state of the object by assigning values to its attributes.\n",
        "\n",
        "  In Python, the constructor method is called __init__(). It automatically runs when you create a new object from a class.\n",
        "\n",
        "10. What are class and static methods in Python?\n",
        "  - Class Methods are methods that belong to the class itself rather than any particular object. They have access to the class and can modify class-level data. They are marked with the @classmethod decorator and take cls as the first parameter.\n",
        "\n",
        "  - Static Methods are methods that don’t access the class or instance directly. They behave like regular functions but belong to the class’s namespace. They are marked with the @staticmethod decorator and don’t take self or cls as parameters.\n",
        "\n",
        "11. What is method overloading in Python?\n",
        "  - Method Overloading in Python means having multiple methods with the same name but different numbers or types of parameters in the same class. However, unlike some other languages, Python does not support method overloading directly. If you define multiple methods with the same name, the last one will overwrite the previous ones.\n",
        "\n",
        "12. What is method overriding in OOP?\n",
        "  - Method overriding occurs when a subclass (child class) provides a specific implementation of a method that is already defined in its superclass (parent class). The method in the child class has the same name, return type, and parameters as the one in the parent class.\n",
        "\n",
        "  When an overridden method is called using an object of the child class, the child class’s version of the method is executed instead of the parent’s. This allows subclasses to customize or completely replace behaviors inherited from the parent class.\n",
        "\n",
        "13. What is a property decorator in Python?\n",
        "  - The property decorator in Python lets you use a method like an attribute. It helps control how you get or set values in a class, without changing how the user accesses them. This makes the code easier to read and keeps data safe.\n",
        "\n",
        "14. Why is polymorphism important in OOP?\n",
        "  - Polymorphism is important in Object-Oriented Programming because it allows different objects to be treated in the same way even if they behave differently. This means the same method name can work with different types of objects, making the code more flexible and easier to extend or maintain.\n",
        "\n",
        "15. What is an abstract class in Python?\n",
        "  - An abstract class is a special class that cannot be instantiated directly. It is meant to be a base class for other classes. It often contains one or more abstract methods — methods that are declared but don’t have an implementation. These methods must be implemented by any child class that inherits from the abstract class.\n",
        "\n",
        "16. What are the advantages of OOP?\n",
        "- Advantages of OOP\n",
        "\n",
        "  a). Modularity: Code is organized into separate objects, making it easier to manage.\n",
        "\n",
        "  b). Reusability: Classes and objects can be reused in different programs.\n",
        "\n",
        "  c). Scalability: Easier to grow and extend programs by adding new objects.\n",
        "\n",
        "  d). Maintainability: Bugs are easier to find and fix because code is organized and clear.\n",
        "\n",
        "  e). Data Protection: Encapsulation hides data and protects it from unintended changes.\n",
        "\n",
        "  f). Flexibility: Polymorphism allows the same interface to work with different data types.\n",
        "\n",
        "  g). Real-world Modeling: Objects represent real-world entities, making programming more intuitive.\n",
        "\n",
        "17. What is the difference between a class variable and an instance variable?\n",
        "  - Class Variable:\n",
        "  A variable that is shared by all objects (instances) of a class. It belongs to the class itself, so if one object changes it, the change is reflected in all objects.\n",
        "\n",
        "  - Instance Variable:\n",
        "  A variable that is unique to each object. Each object has its own copy of instance variables, and changes to one object’s variables don’t affect others.\n",
        "\n",
        "18. What is multiple inheritance in Python?\n",
        "  - Multiple inheritance is a feature in Python where a class can inherit attributes and methods from more than one parent class. This means a single child class can combine the behaviors and properties of multiple classes, allowing for greater flexibility and code reuse.\n",
        "\n",
        "19. Explain the purpose of ‘’__str__’ and ‘__repr__’ ‘ methods in Python?\n",
        "  - Purpose of __str__ and __repr__ Methods in Python:\n",
        "\n",
        "  Both __str__ and __repr__ are special dunder methods in Python used to define how objects are represented as strings, but they serve slightly different purposes:\n",
        "\n",
        "  a). __str__:\n",
        "\n",
        "  Provides a user-friendly and readable string representation of an object. It is used when you print an object or use str() on it. This method is meant to give a nice, easy-to-understand description.\n",
        "\n",
        "  b). __repr__:\n",
        "\n",
        "  Provides an official string representation of an object, mainly aimed at developers. It should ideally be a string that, if possible, can be used to recreate the object. This method is used by the repr() function and in debugging.\n",
        "\n",
        "20. What is the significance of the ‘super()’ function in Python?\n",
        "  - The super() function in Python is significant because it provides a way for a subclass to access and call methods and attributes of its parent (or sibling) classes.\n",
        "\n",
        "  Its main uses are:\n",
        "\n",
        "  a). Properly initializing parent class attributes in a subclass's constructor.\n",
        "\n",
        "  b). Calling an overridden method of a parent class from within a subclass.\n",
        "\n",
        "  c). Ensuring correct method execution order in complex inheritance hierarchies, particularly with multiple inheritance, by following Python's Method Resolution Order (MRO).\n",
        "\n",
        "  It makes inheritance more flexible, maintainable, and robust.\n",
        "\n",
        "21. What is the significance of the __del__ method in Python?\n",
        "  - The __del__ method in Python is a destructor that is automatically called just before an object is destroyed and removed from memory.\n",
        "\n",
        "  Its significance lies in its ability to:\n",
        "\n",
        "    a). Perform final cleanup operations, such as closing file handles, network connections, or releasing other external resources.\n",
        "\n",
        "    b). Prevent resource leaks.\n",
        "\n",
        "  However, its use is generally discouraged for routine resource management due to its unpredictable execution timing and the fact that it's not guaranteed to run in all circumstances. Python's with statement (context managers) is preferred for reliable cleanup.\n",
        "\n",
        "22. What is the difference between @staticmethod and @classmethod in Python?\n",
        "\n",
        "  In Python, both @staticmethod and @classmethod are decorators used to define methods within a class that are not bound to a specific instance of that class. The key difference lies in what they receive as their first argument:\n",
        "\n",
        "  - @classmethod:\n",
        "\n",
        "  a). Takes the class itself as its first argument, conventionally named cls.\n",
        "\n",
        "  b). This allows the method to access and modify class-level attributes (data that belongs to the class, not individual objects) and call other class methods.\n",
        "\n",
        "  c). Often used for \"factory methods\" (alternative ways to create instances of the class) or operations that affect the entire class.\n",
        "\n",
        "  - @staticmethod:\n",
        "\n",
        "  a). Takes no special first argument (neither self for instance nor cls for class).\n",
        "\n",
        "  b). Behaves essentially like a regular function that happens to be defined inside a class.\n",
        "\n",
        "  c). It cannot access or modify instance-specific data (self) or class-specific data (cls) unless explicitly passed as an argument.\n",
        "\n",
        "  d). Primarily used for utility functions that are logically related to the class but don't need to interact with the class's state or an object's state.\n",
        "\n",
        "23. How does polymorphism work in Python with inheritance?\n",
        "  - Polymorphism allows different classes that inherit from the same parent class to use methods with the same name but different behaviors. This means you can write code that works with the parent class, but when you use child class objects, the child class’s version of the method is automatically called.\n",
        "\n",
        "  How It Works:\n",
        "\n",
        "  a). A parent class defines a method (for example, speak()).\n",
        "\n",
        "  b). Child classes inherit the parent but each override the speak() method with their own behavior.\n",
        "\n",
        "  c). When you call speak() on a parent class reference pointing to a child object, the child’s version runs. This is called dynamic method dispatch.\n",
        "\n",
        "24. What is method chaining in Python OOP?\n",
        "- In Python OOP, method chaining (often associated with a \"fluent interface\") is a programming technique where you call multiple methods on the same object in a single, continuous line of code.\n",
        "\n",
        "  The core idea is that each method in the chain performs an action and then returns the object itself (usually self), allowing another method to be called immediately on that returned object.\n",
        "\n",
        "  - How it works:\n",
        "\n",
        "  a). You create an object.\n",
        "\n",
        "  b). You call a method on that object.\n",
        "\n",
        "  c). Instead of returning None or some other value, that method returns the object (self) that it was called on.\n",
        "\n",
        "  d). Because the method returned the object, you can immediately call another method on that same object in the same line.\n",
        "\n",
        "  e). This process can continue, forming a \"chain\" of method calls.\n",
        "\n",
        "25. What is the purpose of the __call__ method in Python?\n",
        "\n",
        "  - The __call__ method in Python is a special \"dunder\" method that allows an instance of a class to be called like a function.\n",
        "\n",
        "  When you define __call__ within a class, objects created from that class become \"callable.\" This means you can use parentheses () directly on the object itself, just as you would with a function.\n",
        "\n",
        "    > Purpose:\n",
        "\n",
        "  a). Creating \"Callable Objects\" or \"Functors\": It allows objects to behave like functions while still retaining object-oriented capabilities (like holding state in their attributes).\n",
        "\n",
        "  b). Stateful Functions: It's useful for creating function-like objects that maintain internal state or configuration between calls. For example, a counter that increments each time it's \"called,\" or a specialized formatter.\n",
        "\n",
        "  c). Custom Decorators: Classes implementing __call__ can serve as custom decorators, modifying the behavior of functions or methods they wrap.\n",
        "\n",
        "  d). APIs that expect callables: In frameworks or libraries (e.g., machine learning libraries like TensorFlow/PyTorch), where a function is expected for certain operations (like a layer or a loss function), a class with __call__ can be provided instead, allowing for more complex, stateful implementations.\n",
        "\n",
        "  In essence, __call__ bridges the gap between functions and objects, providing a flexible way to define objects that can be directly executed.\n",
        "\n",
        "\n",
        "\n",
        "\n",
        "\n",
        "\n",
        "\n",
        "\n",
        "\n",
        "\n",
        "\n",
        "\n",
        "\n",
        "\n",
        "\n"
      ],
      "metadata": {
        "id": "sD1srxcHvU6r"
      }
    },
    {
      "cell_type": "code",
      "source": [
        "#Create a parent class Animal with a method speak() that prints a generic message. Create a child class Dog that overrides the speak() method to print \"Bark!\".\n",
        "class Animal:\n",
        "    def speak(self):\n",
        "        print(\"The animal makes a sound.\")\n",
        "class Dog(Animal):\n",
        "    def speak(self):\n",
        "        print(\"Bark!\")\n",
        "generic_animal = Animal()\n",
        "dog = Dog()\n",
        "generic_animal.speak()\n",
        "dog.speak()"
      ],
      "metadata": {
        "colab": {
          "base_uri": "https://localhost:8080/"
        },
        "id": "X0dcMdlmCn-6",
        "outputId": "a881d84a-0ba5-4b52-824d-7511aa3e936b"
      },
      "execution_count": 1,
      "outputs": [
        {
          "output_type": "stream",
          "name": "stdout",
          "text": [
            "The animal makes a sound.\n",
            "Bark!\n"
          ]
        }
      ]
    },
    {
      "cell_type": "code",
      "source": [
        "#Write a program to create an abstract class Shape with a method area(). Derive classes Circle and Rectangle from it and implement the area() method in both.\n",
        "from abc import ABC, abstractmethod\n",
        "import math\n",
        "class Shape(ABC):\n",
        "    @abstractmethod\n",
        "    def area(self):\n",
        "        pass\n",
        "class Circle(Shape):\n",
        "    def __init__(self, radius):\n",
        "        self.radius = radius\n",
        "\n",
        "    def area(self):\n",
        "        return math.pi * self.radius * self.radius\n",
        "class Rectangle(Shape):\n",
        "    def __init__(self, length, width):\n",
        "        self.length = length\n",
        "        self.width = width\n",
        "\n",
        "    def area(self):\n",
        "        return self.length * self.width\n",
        "circle = Circle(5)\n",
        "rectangle = Rectangle(4, 6)\n",
        "print(\"Area of Circle:\", circle.area())\n",
        "print(\"Area of Rectangle:\", rectangle.area())\n"
      ],
      "metadata": {
        "colab": {
          "base_uri": "https://localhost:8080/"
        },
        "id": "XKaKVkogDkGA",
        "outputId": "13185211-a4e7-4371-df98-7e1acd884552"
      },
      "execution_count": 3,
      "outputs": [
        {
          "output_type": "stream",
          "name": "stdout",
          "text": [
            "Area of Circle: 78.53981633974483\n",
            "Area of Rectangle: 24\n"
          ]
        }
      ]
    },
    {
      "cell_type": "code",
      "source": [
        "# Implement a multi-level inheritance scenario where a class Vehicle has an attribute type. Derive a class Car and further derive a class ElectricCar that adds a battery attribute.\n",
        "class Vehicle:\n",
        "    def __init__(self, type):\n",
        "        self.type = type\n",
        "class Car(Vehicle):\n",
        "    def __init__(self, type, brand):\n",
        "        super().__init__(type)\n",
        "        self.brand = brand\n",
        "class ElectricCar(Car):\n",
        "    def __init__(self, type, brand, battery):\n",
        "        super().__init__(type, brand)\n",
        "        self.battery = battery\n",
        "\n",
        "    def display_info(self):\n",
        "        print(f\"Type: {self.type}\")\n",
        "        print(f\"Brand: {self.brand}\")\n",
        "        print(f\"Battery: {self.battery} kWh\")\n",
        "my_ecar = ElectricCar(\"Electric Vehicle\", \"Tesla\", 75)\n",
        "my_ecar.display_info()\n"
      ],
      "metadata": {
        "colab": {
          "base_uri": "https://localhost:8080/"
        },
        "id": "SH72_ppqEKr1",
        "outputId": "63c2cc45-47b4-4644-e757-3f7765dbb578"
      },
      "execution_count": 4,
      "outputs": [
        {
          "output_type": "stream",
          "name": "stdout",
          "text": [
            "Type: Electric Vehicle\n",
            "Brand: Tesla\n",
            "Battery: 75 kWh\n"
          ]
        }
      ]
    },
    {
      "cell_type": "code",
      "source": [
        "#Demonstrate polymorphism by creating a base class Bird with a method fly(). Create two derived classes Sparrow and Penguin that override the fly() method\n",
        "class Bird:\n",
        "    def fly(self):\n",
        "        print(\"Birds can fly.\")\n",
        "class Sparrow(Bird):\n",
        "    def fly(self):\n",
        "        print(\"Sparrow flies high in the sky.\")\n",
        "class Penguin(Bird):\n",
        "    def fly(self):\n",
        "        print(\"Penguins cannot fly, they swim instead.\")\n",
        "def bird_flight(bird):\n",
        "    bird.fly()\n",
        "sparrow = Sparrow()\n",
        "penguin = Penguin()\n",
        "bird_flight(sparrow)\n",
        "bird_flight(penguin)\n"
      ],
      "metadata": {
        "colab": {
          "base_uri": "https://localhost:8080/"
        },
        "id": "OPDXjUZ0Eut8",
        "outputId": "50ae7cc4-303d-45b3-9807-7ae0d8823df1"
      },
      "execution_count": 5,
      "outputs": [
        {
          "output_type": "stream",
          "name": "stdout",
          "text": [
            "Sparrow flies high in the sky.\n",
            "Penguins cannot fly, they swim instead.\n"
          ]
        }
      ]
    },
    {
      "cell_type": "code",
      "source": [
        "#Write a program to demonstrate encapsulation by creating a class BankAccount with private attributes balance and methods to deposit, withdraw, and check balance.\n",
        "class BankAccount:\n",
        "    def __init__(self, initial_balance):\n",
        "        self.__balance = initial_balance\n",
        "\n",
        "    def deposit(self, amount):\n",
        "        if amount > 0:\n",
        "            self.__balance += amount\n",
        "            print(f\"Deposited: {amount}\")\n",
        "        else:\n",
        "            print(\"Invalid deposit amount.\")\n",
        "\n",
        "    def withdraw(self, amount):\n",
        "        if 0 < amount <= self.__balance:\n",
        "            self.__balance -= amount\n",
        "            print(f\"Withdrawn: {amount}\")\n",
        "        else:\n",
        "            print(\"Invalid or insufficient funds.\")\n",
        "\n",
        "    def check_balance(self):\n",
        "        print(f\"Current balance: {self.__balance}\")\n",
        "\n",
        "account = BankAccount(1000)\n",
        "account.deposit(500)\n",
        "account.withdraw(200)\n",
        "account.check_balance()\n"
      ],
      "metadata": {
        "colab": {
          "base_uri": "https://localhost:8080/"
        },
        "id": "xgTkENHAFP_X",
        "outputId": "aea09578-82d2-4845-d269-a9ae342424de"
      },
      "execution_count": 6,
      "outputs": [
        {
          "output_type": "stream",
          "name": "stdout",
          "text": [
            "Deposited: 500\n",
            "Withdrawn: 200\n",
            "Current balance: 1300\n"
          ]
        }
      ]
    },
    {
      "cell_type": "code",
      "source": [
        "#Demonstrate runtime polymorphism using a method play() in a base class Instrument. Derive classes Guitar and Piano that implement their own version of play().\n",
        "class Instrument:\n",
        "    def play(self):\n",
        "        print(\"Playing an instrument.\")\n",
        "\n",
        "class Guitar(Instrument):\n",
        "    def play(self):\n",
        "        print(\"Strumming the guitar.\")\n",
        "\n",
        "class Piano(Instrument):\n",
        "    def play(self):\n",
        "        print(\"Playing the piano.\")\n",
        "\n",
        "def perform(instrument):\n",
        "    instrument.play()\n",
        "\n",
        "guitar = Guitar()\n",
        "piano = Piano()\n",
        "\n",
        "perform(guitar)\n",
        "perform(piano)"
      ],
      "metadata": {
        "colab": {
          "base_uri": "https://localhost:8080/"
        },
        "id": "5gs9J0rEFidy",
        "outputId": "cbf9b352-c9a6-4a11-b6d2-dd59d423806e"
      },
      "execution_count": 7,
      "outputs": [
        {
          "output_type": "stream",
          "name": "stdout",
          "text": [
            "Strumming the guitar.\n",
            "Playing the piano.\n"
          ]
        }
      ]
    },
    {
      "cell_type": "code",
      "source": [
        "#Create a class MathOperations with a class method add_numbers() to add two numbers and a static method subtract_numbers() to subtract two numbers.\n",
        "class MathOperations:\n",
        "    @classmethod\n",
        "    def add_numbers(cls, a, b):\n",
        "        return a + b\n",
        "\n",
        "    @staticmethod\n",
        "    def subtract_numbers(a, b):\n",
        "        return a - b\n",
        "sum_result = MathOperations.add_numbers(10, 5)\n",
        "print(\"Sum:\", sum_result)\n",
        "diff_result = MathOperations.subtract_numbers(10, 5)\n",
        "print(\"Difference:\", diff_result)\n"
      ],
      "metadata": {
        "colab": {
          "base_uri": "https://localhost:8080/"
        },
        "id": "gH-tvvsKF2Lk",
        "outputId": "c4dfc170-192a-411c-84de-be67b85e6564"
      },
      "execution_count": 8,
      "outputs": [
        {
          "output_type": "stream",
          "name": "stdout",
          "text": [
            "Sum: 15\n",
            "Difference: 5\n"
          ]
        }
      ]
    },
    {
      "cell_type": "code",
      "source": [
        "# Implement a class Person with a class method to count the total number of persons created\n",
        "class Person:\n",
        "    count = 0\n",
        "    def __init__(self, name):\n",
        "        self.name = name\n",
        "        Person.count += 1\n",
        "    @classmethod\n",
        "    def total_persons(cls):\n",
        "        return cls.count\n",
        "p1 = Person(\"Alice\")\n",
        "p2 = Person(\"Bob\")\n",
        "p3 = Person(\"Charlie\")\n",
        "print(\"Total persons created:\", Person.total_persons())\n"
      ],
      "metadata": {
        "colab": {
          "base_uri": "https://localhost:8080/"
        },
        "id": "vwsSa1YJGM6u",
        "outputId": "f55c94ba-dfdc-4bf0-be4a-9f6e989e3955"
      },
      "execution_count": 9,
      "outputs": [
        {
          "output_type": "stream",
          "name": "stdout",
          "text": [
            "Total persons created: 3\n"
          ]
        }
      ]
    },
    {
      "cell_type": "code",
      "source": [
        "#Write a class Fraction with attributes numerator and denominator. Override the str method to display the fraction as \"numerator/denominator\".\n",
        "class Fraction:\n",
        "    def __init__(self, numerator, denominator):\n",
        "        self.numerator = numerator\n",
        "        self.denominator = denominator\n",
        "\n",
        "    def __str__(self):\n",
        "        return f\"{self.numerator}/{self.denominator}\"\n",
        "frac = Fraction(3, 4)\n",
        "print(frac)\n"
      ],
      "metadata": {
        "colab": {
          "base_uri": "https://localhost:8080/"
        },
        "id": "ncjBJzlwGeu3",
        "outputId": "8cf656e2-3f2e-4119-9d81-c6ced6efa63a"
      },
      "execution_count": 10,
      "outputs": [
        {
          "output_type": "stream",
          "name": "stdout",
          "text": [
            "3/4\n"
          ]
        }
      ]
    },
    {
      "cell_type": "code",
      "source": [
        "#Demonstrate operator overloading by creating a class Vector and overriding the add method to add two vectors.\n",
        "class Vector:\n",
        "    def __init__(self, x, y):\n",
        "        self.x = x\n",
        "        self.y = y\n",
        "    def __add__(self, other):\n",
        "        return Vector(self.x + other.x, self.y + other.y)\n",
        "\n",
        "    def __str__(self):\n",
        "        return f\"({self.x}, {self.y})\"\n",
        "v1 = Vector(2, 3)\n",
        "v2 = Vector(4, 5)\n",
        "result = v1 + v2\n",
        "print(\"Resultant Vector:\", result)\n"
      ],
      "metadata": {
        "colab": {
          "base_uri": "https://localhost:8080/"
        },
        "id": "Azlp2MTNGwQv",
        "outputId": "2f0ef69f-f3ec-4245-c5ca-3314b9faed38"
      },
      "execution_count": 11,
      "outputs": [
        {
          "output_type": "stream",
          "name": "stdout",
          "text": [
            "Resultant Vector: (6, 8)\n"
          ]
        }
      ]
    },
    {
      "cell_type": "code",
      "source": [
        "#Create a class Person with attributes name and age. Add a method greet() that prints \"Hello, my name is {name} and I am {age} years old.\"\n",
        "class Person:\n",
        "    def __init__(self, name, age):\n",
        "        self.name = name\n",
        "        self.age = age\n",
        "\n",
        "    def greet(self):\n",
        "        print(f\"Hello, my name is {self.name} and I am {self.age} years old.\")\n",
        "person = Person(\"Alice\", 25)\n",
        "person.greet()"
      ],
      "metadata": {
        "colab": {
          "base_uri": "https://localhost:8080/"
        },
        "id": "98T8c6VvHEHx",
        "outputId": "ece42ef2-f22b-447f-906c-e775a1be7592"
      },
      "execution_count": 12,
      "outputs": [
        {
          "output_type": "stream",
          "name": "stdout",
          "text": [
            "Hello, my name is Alice and I am 25 years old.\n"
          ]
        }
      ]
    },
    {
      "cell_type": "code",
      "source": [
        "#Implement a class Student with attributes name and grades. Create a method average_grade() to compute the average of the grades.\n",
        "class Student:\n",
        "    def __init__(self, name, grades):\n",
        "        self.name = name\n",
        "        self.grades = grades\n",
        "    def average_grade(self):\n",
        "        if not self.grades:\n",
        "            return 0\n",
        "        return sum(self.grades) / len(self.grades)\n",
        "student = Student(\"John\", [85, 90, 78, 92])\n",
        "print(f\"{student.name}'s average grade is: {student.average_grade()}\")\n",
        "\n"
      ],
      "metadata": {
        "colab": {
          "base_uri": "https://localhost:8080/"
        },
        "id": "wqDYrqDyHRwo",
        "outputId": "03a21c9a-a1b6-4bc1-f10d-cb56c5a6df28"
      },
      "execution_count": 13,
      "outputs": [
        {
          "output_type": "stream",
          "name": "stdout",
          "text": [
            "John's average grade is: 86.25\n"
          ]
        }
      ]
    },
    {
      "cell_type": "code",
      "source": [
        "#Create a class Rectangle with methods set_dimensions() to set the dimensions and area() to calculate the area.\n",
        "class Rectangle:\n",
        "    def __init__(self):\n",
        "        self.length = 0\n",
        "        self.width = 0\n",
        "\n",
        "    def set_dimensions(self, length, width):\n",
        "        self.length = length\n",
        "        self.width = width\n",
        "\n",
        "    def area(self):\n",
        "        return self.length * self.width\n",
        "rect = Rectangle()\n",
        "rect.set_dimensions(5, 3)\n",
        "print(\"Area of rectangle:\", rect.area())"
      ],
      "metadata": {
        "colab": {
          "base_uri": "https://localhost:8080/"
        },
        "id": "xkbQe9obHiqH",
        "outputId": "3ce16600-cbf0-4037-ad1e-91213c6e0ce7"
      },
      "execution_count": 14,
      "outputs": [
        {
          "output_type": "stream",
          "name": "stdout",
          "text": [
            "Area of rectangle: 15\n"
          ]
        }
      ]
    },
    {
      "cell_type": "code",
      "source": [
        "#Create a class Employee with a method calculate_salary() that computes the salary based on hours worked and hourly rate. Create a derived class Manager that adds a bonus to the salary.\n",
        "class Employee:\n",
        "    def __init__(self, hours_worked, hourly_rate):\n",
        "        self.hours_worked = hours_worked\n",
        "        self.hourly_rate = hourly_rate\n",
        "\n",
        "    def calculate_salary(self):\n",
        "        return self.hours_worked * self.hourly_rate\n",
        "class Manager(Employee):\n",
        "    def __init__(self, hours_worked, hourly_rate, bonus):\n",
        "        super().__init__(hours_worked, hourly_rate)\n",
        "        self.bonus = bonus\n",
        "\n",
        "    def calculate_salary(self):\n",
        "        base_salary = super().calculate_salary()\n",
        "        return base_salary + self.bonus\n",
        "employee = Employee(40, 20)\n",
        "manager = Manager(40, 20, 500)\n",
        "\n",
        "print(\"Employee Salary:\", employee.calculate_salary())\n",
        "print(\"Manager Salary:\", manager.calculate_salary())"
      ],
      "metadata": {
        "colab": {
          "base_uri": "https://localhost:8080/"
        },
        "id": "WfIqvu8kHvLo",
        "outputId": "55a09962-05a0-4c62-8341-8e11f4b80d6b"
      },
      "execution_count": 15,
      "outputs": [
        {
          "output_type": "stream",
          "name": "stdout",
          "text": [
            "Employee Salary: 800\n",
            "Manager Salary: 1300\n"
          ]
        }
      ]
    },
    {
      "cell_type": "code",
      "source": [
        "#Create a class Product with attributes name, price, and quantity. Implement a method total_price() that calculates the total price of the product.\n",
        "class Product:\n",
        "    def __init__(self, name, price, quantity):\n",
        "        self.name = name\n",
        "        self.price = price\n",
        "        self.quantity = quantity\n",
        "\n",
        "    def total_price(self):\n",
        "        return self.price * self.quantity\n",
        "product = Product(\"Laptop\", 800, 3)\n",
        "print(f\"Total price for {product.name}: ${product.total_price()}\")\n"
      ],
      "metadata": {
        "colab": {
          "base_uri": "https://localhost:8080/"
        },
        "id": "5OjEqGQUH-Uu",
        "outputId": "10a4744f-4d6f-41d6-a072-ce7bee98c9c9"
      },
      "execution_count": 16,
      "outputs": [
        {
          "output_type": "stream",
          "name": "stdout",
          "text": [
            "Total price for Laptop: $2400\n"
          ]
        }
      ]
    },
    {
      "cell_type": "code",
      "source": [
        "#Create a class Animal with an abstract method sound(). Create two derived classes Cow and Sheep that implement the sound() method.\n",
        "from abc import ABC, abstractmethod\n",
        "\n",
        "class Animal(ABC):\n",
        "    @abstractmethod\n",
        "    def sound(self):\n",
        "        pass\n",
        "class Cow(Animal):\n",
        "    def sound(self):\n",
        "        print(\"Moo\")\n",
        "class Sheep(Animal):\n",
        "    def sound(self):\n",
        "        print(\"Baa\")\n",
        "cow = Cow()\n",
        "sheep = Sheep()\n",
        "\n",
        "cow.sound()\n",
        "sheep.sound()"
      ],
      "metadata": {
        "colab": {
          "base_uri": "https://localhost:8080/"
        },
        "id": "EP10nBlXIMtB",
        "outputId": "d4335dc3-0e04-4b2a-c572-028f594a832a"
      },
      "execution_count": 17,
      "outputs": [
        {
          "output_type": "stream",
          "name": "stdout",
          "text": [
            "Moo\n",
            "Baa\n"
          ]
        }
      ]
    },
    {
      "cell_type": "code",
      "source": [
        "#Create a class Book with attributes title, author, and year_published. Add a method get_book_info() that returns a formatted string with the book's details.\n",
        "class Book:\n",
        "    def __init__(self, title, author, year_published):\n",
        "        self.title = title\n",
        "        self.author = author\n",
        "        self.year_published = year_published\n",
        "\n",
        "    def get_book_info(self):\n",
        "        return f\"'{self.title}' by {self.author}, published in {self.year_published}\"\n",
        "book = Book(\"1984\", \"George Orwell\", 1949)\n",
        "print(book.get_book_info())"
      ],
      "metadata": {
        "colab": {
          "base_uri": "https://localhost:8080/"
        },
        "id": "jRiB-_MGIeU1",
        "outputId": "96234f77-b189-4822-e0fa-ceabef204f84"
      },
      "execution_count": 18,
      "outputs": [
        {
          "output_type": "stream",
          "name": "stdout",
          "text": [
            "'1984' by George Orwell, published in 1949\n"
          ]
        }
      ]
    },
    {
      "cell_type": "code",
      "source": [
        "#Create a class House with attributes address and price. Create a derived class Mansion that adds an attribute number_of_rooms.\n",
        "class House:\n",
        "    def __init__(self, address, price):\n",
        "        self.address = address\n",
        "        self.price = price\n",
        "class Mansion(House):\n",
        "    def __init__(self, address, price, number_of_rooms):\n",
        "        super().__init__(address, price)\n",
        "        self.number_of_rooms = number_of_rooms\n",
        "house = House(\"123 Main St\", 250000)\n",
        "mansion = Mansion(\"456 Luxury Ave\", 2000000, 10)\n",
        "\n",
        "print(f\"House: Address = {house.address}, Price = ${house.price}\")\n",
        "print(f\"Mansion: Address = {mansion.address}, Price = ${mansion.price}, Rooms = {mansion.number_of_rooms}\")\n"
      ],
      "metadata": {
        "colab": {
          "base_uri": "https://localhost:8080/"
        },
        "id": "OYg1jcHGIqhz",
        "outputId": "b8adcb96-091a-409b-c6b0-4e6df984ded2"
      },
      "execution_count": 19,
      "outputs": [
        {
          "output_type": "stream",
          "name": "stdout",
          "text": [
            "House: Address = 123 Main St, Price = $250000\n",
            "Mansion: Address = 456 Luxury Ave, Price = $2000000, Rooms = 10\n"
          ]
        }
      ]
    },
    {
      "cell_type": "code",
      "source": [],
      "metadata": {
        "id": "G8wPI6TsI1UO"
      },
      "execution_count": null,
      "outputs": []
    }
  ]
}